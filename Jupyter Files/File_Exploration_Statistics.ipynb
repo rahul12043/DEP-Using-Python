{
 "cells": [
  {
   "cell_type": "code",
   "execution_count": 2,
   "id": "2ee91240-87be-4c37-a9ba-332a901a4278",
   "metadata": {},
   "outputs": [
    {
     "name": "stdout",
     "output_type": "stream",
     "text": [
      "Head: \n",
      "    customerID  gender  SeniorCitizen Partner Dependents  tenure PhoneService  \\\n",
      "0  7590-VHVEG  Female              0     Yes         No       1           No   \n",
      "1  5575-GNVDE    Male              0      No         No      34          Yes   \n",
      "2  3668-QPYBK    Male              0      No         No       2          Yes   \n",
      "3  7795-CFOCW    Male              0      No         No      45           No   \n",
      "4  9237-HQITU  Female              0      No         No       2          Yes   \n",
      "\n",
      "      MultipleLines InternetService OnlineSecurity  ... DeviceProtection  \\\n",
      "0  No phone service             DSL             No  ...               No   \n",
      "1                No             DSL            Yes  ...              Yes   \n",
      "2                No             DSL            Yes  ...               No   \n",
      "3  No phone service             DSL            Yes  ...              Yes   \n",
      "4                No     Fiber optic             No  ...               No   \n",
      "\n",
      "  TechSupport StreamingTV StreamingMovies        Contract PaperlessBilling  \\\n",
      "0          No          No              No  Month-to-month              Yes   \n",
      "1          No          No              No        One year               No   \n",
      "2          No          No              No  Month-to-month              Yes   \n",
      "3         Yes          No              No        One year               No   \n",
      "4          No          No              No  Month-to-month              Yes   \n",
      "\n",
      "               PaymentMethod MonthlyCharges  TotalCharges Churn  \n",
      "0           Electronic check          29.85         29.85    No  \n",
      "1               Mailed check          56.95        1889.5    No  \n",
      "2               Mailed check          53.85        108.15   Yes  \n",
      "3  Bank transfer (automatic)          42.30       1840.75    No  \n",
      "4           Electronic check          70.70        151.65   Yes  \n",
      "\n",
      "[5 rows x 21 columns]\n",
      "Tail: \n",
      "       customerID  gender  SeniorCitizen Partner Dependents  tenure  \\\n",
      "7038  6840-RESVB    Male              0     Yes        Yes      24   \n",
      "7039  2234-XADUH  Female              0     Yes        Yes      72   \n",
      "7040  4801-JZAZL  Female              0     Yes        Yes      11   \n",
      "7041  8361-LTMKD    Male              1     Yes         No       4   \n",
      "7042  3186-AJIEK    Male              0      No         No      66   \n",
      "\n",
      "     PhoneService     MultipleLines InternetService OnlineSecurity  ...  \\\n",
      "7038          Yes               Yes             DSL            Yes  ...   \n",
      "7039          Yes               Yes     Fiber optic             No  ...   \n",
      "7040           No  No phone service             DSL            Yes  ...   \n",
      "7041          Yes               Yes     Fiber optic             No  ...   \n",
      "7042          Yes                No     Fiber optic            Yes  ...   \n",
      "\n",
      "     DeviceProtection TechSupport StreamingTV StreamingMovies        Contract  \\\n",
      "7038              Yes         Yes         Yes             Yes        One year   \n",
      "7039              Yes          No         Yes             Yes        One year   \n",
      "7040               No          No          No              No  Month-to-month   \n",
      "7041               No          No          No              No  Month-to-month   \n",
      "7042              Yes         Yes         Yes             Yes        Two year   \n",
      "\n",
      "     PaperlessBilling              PaymentMethod MonthlyCharges  TotalCharges  \\\n",
      "7038              Yes               Mailed check          84.80        1990.5   \n",
      "7039              Yes    Credit card (automatic)         103.20        7362.9   \n",
      "7040              Yes           Electronic check          29.60        346.45   \n",
      "7041              Yes               Mailed check          74.40         306.6   \n",
      "7042              Yes  Bank transfer (automatic)         105.65        6844.5   \n",
      "\n",
      "     Churn  \n",
      "7038    No  \n",
      "7039    No  \n",
      "7040    No  \n",
      "7041   Yes  \n",
      "7042    No  \n",
      "\n",
      "[5 rows x 21 columns]\n",
      "<class 'pandas.core.frame.DataFrame'>\n",
      "RangeIndex: 7043 entries, 0 to 7042\n",
      "Data columns (total 21 columns):\n",
      " #   Column            Non-Null Count  Dtype  \n",
      "---  ------            --------------  -----  \n",
      " 0   customerID        7043 non-null   object \n",
      " 1   gender            7043 non-null   object \n",
      " 2   SeniorCitizen     7043 non-null   int64  \n",
      " 3   Partner           7043 non-null   object \n",
      " 4   Dependents        7043 non-null   object \n",
      " 5   tenure            7043 non-null   int64  \n",
      " 6   PhoneService      7043 non-null   object \n",
      " 7   MultipleLines     7043 non-null   object \n",
      " 8   InternetService   7043 non-null   object \n",
      " 9   OnlineSecurity    7043 non-null   object \n",
      " 10  OnlineBackup      7043 non-null   object \n",
      " 11  DeviceProtection  7043 non-null   object \n",
      " 12  TechSupport       7043 non-null   object \n",
      " 13  StreamingTV       7043 non-null   object \n",
      " 14  StreamingMovies   7043 non-null   object \n",
      " 15  Contract          7043 non-null   object \n",
      " 16  PaperlessBilling  7043 non-null   object \n",
      " 17  PaymentMethod     7043 non-null   object \n",
      " 18  MonthlyCharges    7043 non-null   float64\n",
      " 19  TotalCharges      7043 non-null   object \n",
      " 20  Churn             7043 non-null   object \n",
      "dtypes: float64(1), int64(2), object(18)\n",
      "memory usage: 1.1+ MB\n",
      "Description: \n",
      "        SeniorCitizen       tenure  MonthlyCharges\n",
      "count    7043.000000  7043.000000     7043.000000\n",
      "mean        0.162147    32.371149       64.761692\n",
      "std         0.368612    24.559481       30.090047\n",
      "min         0.000000     0.000000       18.250000\n",
      "25%         0.000000     9.000000       35.500000\n",
      "50%         0.000000    29.000000       70.350000\n",
      "75%         0.000000    55.000000       89.850000\n",
      "max         1.000000    72.000000      118.750000\n"
     ]
    },
    {
     "name": "stderr",
     "output_type": "stream",
     "text": [
      "C:\\Users\\rahul\\AppData\\Local\\Temp\\ipykernel_32700\\999640426.py:1: DeprecationWarning: \n",
      "Pyarrow will become a required dependency of pandas in the next major release of pandas (pandas 3.0),\n",
      "(to allow more performant data types, such as the Arrow string type, and better interoperability with other libraries)\n",
      "but was not found to be installed on your system.\n",
      "If this would cause problems for you,\n",
      "please provide us feedback at https://github.com/pandas-dev/pandas/issues/54466\n",
      "        \n",
      "  import pandas as pd\n"
     ]
    }
   ],
   "source": [
    "import pandas as pd\n",
    "\n",
    "df = pd.read_csv(\"customer_churn.csv\")\n",
    "df\n",
    "\n",
    "print(\"Head: \\n\",df.head())\n",
    "print(\"Tail: \\n\", df.tail())\n",
    "df.info()\n",
    "print(\"Description: \\n\",df.describe())\n"
   ]
  },
  {
   "cell_type": "code",
   "execution_count": 3,
   "id": "742bd0d9-833d-4258-9ddb-ac0cbe8d05d6",
   "metadata": {},
   "outputs": [
    {
     "name": "stdout",
     "output_type": "stream",
     "text": [
      "      customerID  gender  SeniorCitizen Partner Dependents  tenure  \\\n",
      "1672  4737-AQCPU    Male              0     Yes        Yes      72   \n",
      "193   9680-NIAUV  Female              0     Yes        Yes      72   \n",
      "4553  5914-XRFQB    Male              0     Yes         No      72   \n",
      "483   5168-MQQCA  Female              0     Yes         No      72   \n",
      "3266  0464-WJTKO  Female              0     Yes        Yes      72   \n",
      "\n",
      "     PhoneService MultipleLines InternetService       OnlineSecurity  ...  \\\n",
      "1672          Yes           Yes             DSL                  Yes  ...   \n",
      "193           Yes           Yes     Fiber optic                  Yes  ...   \n",
      "4553          Yes           Yes     Fiber optic                  Yes  ...   \n",
      "483           Yes           Yes     Fiber optic                   No  ...   \n",
      "3266          Yes            No              No  No internet service  ...   \n",
      "\n",
      "         DeviceProtection          TechSupport          StreamingTV  \\\n",
      "1672                  Yes                  Yes                   No   \n",
      "193                   Yes                   No                  Yes   \n",
      "4553                  Yes                  Yes                  Yes   \n",
      "483                   Yes                  Yes                  Yes   \n",
      "3266  No internet service  No internet service  No internet service   \n",
      "\n",
      "          StreamingMovies  Contract PaperlessBilling  \\\n",
      "1672                   No  Two year               No   \n",
      "193                   Yes  Two year               No   \n",
      "4553                  Yes  Two year              Yes   \n",
      "483                   Yes  One year              Yes   \n",
      "3266  No internet service  Two year               No   \n",
      "\n",
      "                  PaymentMethod MonthlyCharges  TotalCharges Churn  \n",
      "1672    Credit card (automatic)           72.1       5016.65    No  \n",
      "193     Credit card (automatic)          109.7        8129.3    No  \n",
      "4553  Bank transfer (automatic)          115.8        8424.9    No  \n",
      "483   Bank transfer (automatic)          108.5        8003.8    No  \n",
      "3266  Bank transfer (automatic)           20.1       1460.85    No  \n",
      "\n",
      "[5 rows x 21 columns]\n"
     ]
    }
   ],
   "source": [
    "sorted = df.sort_values(by=\"tenure\",ascending=False)\n",
    "print(sorted.head())"
   ]
  },
  {
   "cell_type": "code",
   "execution_count": 4,
   "id": "f8a7ce6f-9635-43bd-ac64-e4c7a93c7ac9",
   "metadata": {},
   "outputs": [
    {
     "name": "stdout",
     "output_type": "stream",
     "text": [
      "      customerID  gender  SeniorCitizen Partner Dependents  tenure  \\\n",
      "1340  1371-DWPAZ  Female              0     Yes        Yes       0   \n",
      "936   5709-LVOEQ  Female              0     Yes        Yes       0   \n",
      "6670  4075-WKNIU  Female              0     Yes        Yes       0   \n",
      "4380  2520-SGTTA  Female              0     Yes        Yes       0   \n",
      "5218  2923-ARZLG    Male              0     Yes        Yes       0   \n",
      "\n",
      "     PhoneService     MultipleLines InternetService       OnlineSecurity  ...  \\\n",
      "1340           No  No phone service             DSL                  Yes  ...   \n",
      "936           Yes                No             DSL                  Yes  ...   \n",
      "6670          Yes               Yes             DSL                   No  ...   \n",
      "4380          Yes                No              No  No internet service  ...   \n",
      "5218          Yes                No              No  No internet service  ...   \n",
      "\n",
      "         DeviceProtection          TechSupport          StreamingTV  \\\n",
      "1340                  Yes                  Yes                  Yes   \n",
      "936                   Yes                   No                  Yes   \n",
      "6670                  Yes                  Yes                  Yes   \n",
      "4380  No internet service  No internet service  No internet service   \n",
      "5218  No internet service  No internet service  No internet service   \n",
      "\n",
      "          StreamingMovies  Contract PaperlessBilling            PaymentMethod  \\\n",
      "1340                   No  Two year               No  Credit card (automatic)   \n",
      "936                   Yes  Two year               No             Mailed check   \n",
      "6670                   No  Two year               No             Mailed check   \n",
      "4380  No internet service  Two year               No             Mailed check   \n",
      "5218  No internet service  One year              Yes             Mailed check   \n",
      "\n",
      "     MonthlyCharges  TotalCharges Churn  \n",
      "1340          56.05                  No  \n",
      "936           80.85                  No  \n",
      "6670          73.35                  No  \n",
      "4380          20.00                  No  \n",
      "5218          19.70                  No  \n",
      "\n",
      "[5 rows x 21 columns]\n"
     ]
    }
   ],
   "source": [
    "sorted = df.sort_values(by=\"tenure\",ascending=True)\n",
    "print(sorted.head())"
   ]
  },
  {
   "cell_type": "code",
   "execution_count": 5,
   "id": "d616dee1-3168-42f9-8ce4-64c2cdb355ca",
   "metadata": {},
   "outputs": [
    {
     "name": "stdout",
     "output_type": "stream",
     "text": [
      "   MonthlyCharges  MonthlyChargePerYear\n",
      "0           29.85                 358.2\n",
      "1           56.95                 683.4\n",
      "2           53.85                 646.2\n",
      "3           42.30                 507.6\n",
      "4           70.70                 848.4\n"
     ]
    }
   ],
   "source": [
    "df['MonthlyChargePerYear'] = df['MonthlyCharges']*12\n",
    "print(df[['MonthlyCharges','MonthlyChargePerYear']].head())"
   ]
  },
  {
   "cell_type": "code",
   "execution_count": 6,
   "id": "4c078038-d9e0-4ccd-a1a1-bbf9f84b9bb8",
   "metadata": {},
   "outputs": [
    {
     "name": "stdout",
     "output_type": "stream",
     "text": [
      "   MonthlyCharges  MonthlyChargePerYear\n",
      "0           29.85                 29.85\n",
      "1           56.95               1936.30\n",
      "2           53.85                107.70\n",
      "3           42.30               1903.50\n",
      "4           70.70                141.40\n"
     ]
    }
   ],
   "source": [
    "df['MonthlyChargePerYear'] = df['MonthlyCharges']*df['tenure']\n",
    "print(df[['MonthlyCharges','MonthlyChargePerYear']].head())"
   ]
  },
  {
   "cell_type": "code",
   "execution_count": 7,
   "id": "3eccd18d-a775-42fd-984f-96a904fa63b6",
   "metadata": {},
   "outputs": [
    {
     "name": "stdout",
     "output_type": "stream",
     "text": [
      "    customerID  gender  SeniorCitizen Partner Dependents  tenure PhoneService  \\\n",
      "1   5575-GNVDE    Male              0      No         No      34          Yes   \n",
      "3   7795-CFOCW    Male              0      No         No      45           No   \n",
      "8   7892-POOKP  Female              0     Yes         No      28          Yes   \n",
      "9   6388-TABGU    Male              0      No        Yes      62          Yes   \n",
      "12  8091-TTVAX    Male              0     Yes         No      58          Yes   \n",
      "\n",
      "       MultipleLines InternetService OnlineSecurity  ... TechSupport  \\\n",
      "1                 No             DSL            Yes  ...          No   \n",
      "3   No phone service             DSL            Yes  ...         Yes   \n",
      "8                Yes     Fiber optic             No  ...         Yes   \n",
      "9                 No             DSL            Yes  ...          No   \n",
      "12               Yes     Fiber optic             No  ...          No   \n",
      "\n",
      "   StreamingTV StreamingMovies        Contract PaperlessBilling  \\\n",
      "1           No              No        One year               No   \n",
      "3           No              No        One year               No   \n",
      "8          Yes             Yes  Month-to-month              Yes   \n",
      "9           No              No        One year               No   \n",
      "12         Yes             Yes        One year               No   \n",
      "\n",
      "                PaymentMethod MonthlyCharges TotalCharges  Churn  \\\n",
      "1                Mailed check          56.95       1889.5     No   \n",
      "3   Bank transfer (automatic)          42.30      1840.75     No   \n",
      "8            Electronic check         104.80      3046.05    Yes   \n",
      "9   Bank transfer (automatic)          56.15      3487.95     No   \n",
      "12    Credit card (automatic)         100.35       5681.1     No   \n",
      "\n",
      "   MonthlyChargePerYear  \n",
      "1                1936.3  \n",
      "3                1903.5  \n",
      "8                2934.4  \n",
      "9                3481.3  \n",
      "12               5820.3  \n",
      "\n",
      "[5 rows x 22 columns]\n"
     ]
    }
   ],
   "source": [
    "df_subset = df[df['tenure']>24]\n",
    "print(df_subset.head())"
   ]
  },
  {
   "cell_type": "code",
   "execution_count": 8,
   "id": "6e444376-194e-4910-899c-c3f79fe835ee",
   "metadata": {},
   "outputs": [
    {
     "name": "stdout",
     "output_type": "stream",
     "text": [
      "    customerID  gender  SeniorCitizen Partner Dependents  tenure PhoneService  \\\n",
      "2   3668-QPYBK    Male              0      No         No       2          Yes   \n",
      "4   9237-HQITU  Female              0      No         No       2          Yes   \n",
      "5   9305-CDSKC  Female              0      No         No       8          Yes   \n",
      "8   7892-POOKP  Female              0     Yes         No      28          Yes   \n",
      "13  0280-XJGEX    Male              0      No         No      49          Yes   \n",
      "\n",
      "   MultipleLines InternetService OnlineSecurity  ... TechSupport StreamingTV  \\\n",
      "2             No             DSL            Yes  ...          No          No   \n",
      "4             No     Fiber optic             No  ...          No          No   \n",
      "5            Yes     Fiber optic             No  ...          No         Yes   \n",
      "8            Yes     Fiber optic             No  ...         Yes         Yes   \n",
      "13           Yes     Fiber optic             No  ...          No         Yes   \n",
      "\n",
      "   StreamingMovies        Contract PaperlessBilling  \\\n",
      "2               No  Month-to-month              Yes   \n",
      "4               No  Month-to-month              Yes   \n",
      "5              Yes  Month-to-month              Yes   \n",
      "8              Yes  Month-to-month              Yes   \n",
      "13             Yes  Month-to-month              Yes   \n",
      "\n",
      "                PaymentMethod MonthlyCharges TotalCharges  Churn  \\\n",
      "2                Mailed check          53.85       108.15    Yes   \n",
      "4            Electronic check          70.70       151.65    Yes   \n",
      "5            Electronic check          99.65        820.5    Yes   \n",
      "8            Electronic check         104.80      3046.05    Yes   \n",
      "13  Bank transfer (automatic)         103.70       5036.3    Yes   \n",
      "\n",
      "   MonthlyChargePerYear  \n",
      "2                 107.7  \n",
      "4                 141.4  \n",
      "5                 797.2  \n",
      "8                2934.4  \n",
      "13               5081.3  \n",
      "\n",
      "[5 rows x 22 columns]\n"
     ]
    }
   ],
   "source": [
    "df_churned = df[df['Churn']=='Yes']\n",
    "print(df_churned.head())"
   ]
  },
  {
   "cell_type": "code",
   "execution_count": 9,
   "id": "a6de91e6-8ab1-430d-99a0-c472aeee866a",
   "metadata": {},
   "outputs": [
    {
     "name": "stdout",
     "output_type": "stream",
     "text": [
      "                MonthlyCharges\n",
      "Contract                      \n",
      "Month-to-month       66.398490\n",
      "One year             65.048608\n",
      "Two year             60.770413\n"
     ]
    }
   ],
   "source": [
    "df_agg = df.groupby('Contract').agg({'MonthlyCharges':'mean'})\n",
    "print(df_agg.head())"
   ]
  },
  {
   "cell_type": "code",
   "execution_count": 10,
   "id": "8a231915-8ff3-4288-8e93-d602bbe7bdad",
   "metadata": {},
   "outputs": [
    {
     "name": "stdout",
     "output_type": "stream",
     "text": [
      "InternetService\n",
      "DSL             459\n",
      "Fiber optic    1297\n",
      "No              113\n",
      "dtype: int64\n"
     ]
    }
   ],
   "source": [
    "df_agg_internet_service = df[df['Churn']== 'Yes'].groupby('InternetService').size()\n",
    "print(df_agg_internet_service.head())"
   ]
  },
  {
   "cell_type": "code",
   "execution_count": 11,
   "id": "05f1e414-44e7-4c06-badc-9e1a3373bb9e",
   "metadata": {},
   "outputs": [
    {
     "name": "stdout",
     "output_type": "stream",
     "text": [
      "75.7\n"
     ]
    }
   ],
   "source": [
    "df.at[4,'MonthlyCharges'] +=5\n",
    "print(df.loc[4,'MonthlyCharges'])"
   ]
  },
  {
   "cell_type": "code",
   "execution_count": 12,
   "id": "27271e53-8773-4e06-9177-8e3890e32383",
   "metadata": {},
   "outputs": [
    {
     "name": "stdout",
     "output_type": "stream",
     "text": [
      "90.0\n"
     ]
    }
   ],
   "source": [
    "df.at[5,'MonthlyCharges'] -=9.65\n",
    "print(df.loc[5,'MonthlyCharges'])"
   ]
  },
  {
   "cell_type": "code",
   "execution_count": 13,
   "id": "62cf5b8a-aa18-49cf-be03-e8ca8a28573f",
   "metadata": {},
   "outputs": [
    {
     "name": "stdout",
     "output_type": "stream",
     "text": [
      "89.55000000000001\n"
     ]
    }
   ],
   "source": [
    "df.at[0,'MonthlyCharges'] *= 3\n",
    "print(df.loc[0,'MonthlyCharges'])"
   ]
  },
  {
   "cell_type": "code",
   "execution_count": 14,
   "id": "d4942f45-3cce-4ee4-8f89-fdeb5c0f657a",
   "metadata": {},
   "outputs": [
    {
     "name": "stdout",
     "output_type": "stream",
     "text": [
      "23.233333333333334\n"
     ]
    }
   ],
   "source": [
    "df.at[36,'MonthlyCharges'] /= 3\n",
    "print(df.loc[36,'MonthlyCharges'])"
   ]
  },
  {
   "cell_type": "code",
   "execution_count": 15,
   "id": "5db95f3e-e4bc-4943-bcd4-a7df2d202962",
   "metadata": {},
   "outputs": [
    {
     "name": "stdout",
     "output_type": "stream",
     "text": [
      "False\n"
     ]
    }
   ],
   "source": [
    "tenure_greater = df.at[0 , 'tenure'] > df.at[9 , 'tenure']\n",
    "print(tenure_greater)"
   ]
  },
  {
   "cell_type": "code",
   "execution_count": 16,
   "id": "5d105e6e-f8b5-40bd-ac75-2b778da56102",
   "metadata": {},
   "outputs": [
    {
     "name": "stdout",
     "output_type": "stream",
     "text": [
      "True\n"
     ]
    }
   ],
   "source": [
    "tenure_greater = df.at[2 , 'tenure'] == df.at[4 , 'tenure']\n",
    "print(tenure_greater)"
   ]
  },
  {
   "cell_type": "code",
   "execution_count": 17,
   "id": "9bd84863-4ec7-45e4-894e-b1deebab829f",
   "metadata": {},
   "outputs": [
    {
     "name": "stdout",
     "output_type": "stream",
     "text": [
      "1218\n"
     ]
    }
   ],
   "source": [
    "both_services_count = df[(df['TechSupport']=='Yes') & (df['StreamingTV']=='Yes')].shape[0]\n",
    "print(both_services_count)"
   ]
  },
  {
   "cell_type": "code",
   "execution_count": 18,
   "id": "08d2a0aa-f6e9-4896-90d7-cb5fd06ec82a",
   "metadata": {},
   "outputs": [
    {
     "name": "stdout",
     "output_type": "stream",
     "text": [
      "5517\n"
     ]
    }
   ],
   "source": [
    "internet_dsl_fiber = df[(df['InternetService']=='DSL') | (df['InternetService']=='Fiber optic')].shape[0]\n",
    "print(internet_dsl_fiber)"
   ]
  },
  {
   "cell_type": "code",
   "execution_count": 19,
   "id": "bf35d2ec-7826-4e92-9c3e-be42ce95f1c2",
   "metadata": {},
   "outputs": [
    {
     "name": "stdout",
     "output_type": "stream",
     "text": [
      "0\n"
     ]
    }
   ],
   "source": [
    "senior_male_electronic = df[(df['gender']=='Male') & (df['PaymentMethod']=='Electronic check')& (df['SeniorCitizen']=='Yes')].shape[0]\n",
    "print(senior_male_electronic)"
   ]
  },
  {
   "cell_type": "code",
   "execution_count": 20,
   "id": "d4706774-c070-4c41-afae-52b380251097",
   "metadata": {},
   "outputs": [
    {
     "name": "stdout",
     "output_type": "stream",
     "text": [
      "0\n"
     ]
    }
   ],
   "source": [
    "missing_values_count = df.isnull().sum().sum()\n",
    "print(missing_values_count)"
   ]
  },
  {
   "cell_type": "code",
   "execution_count": 21,
   "id": "92104154-1a0f-4ffc-a595-4fa85aa00468",
   "metadata": {},
   "outputs": [
    {
     "name": "stdout",
     "output_type": "stream",
     "text": [
      "0\n"
     ]
    }
   ],
   "source": [
    "df = pd.read_csv(\"customer_churn.csv\")\n",
    "missing_values_count = df.isnull().sum().sum()\n",
    "print(missing_values_count)"
   ]
  },
  {
   "cell_type": "code",
   "execution_count": 22,
   "id": "b7a74ab9-5701-46a8-a9ff-f339ef225ac8",
   "metadata": {},
   "outputs": [
    {
     "name": "stdout",
     "output_type": "stream",
     "text": [
      "    customerID  gender  SeniorCitizen Partner Dependents  tenure PhoneService  \\\n",
      "9   6388-TABGU    Male              0      No        Yes      62          Yes   \n",
      "23  3638-WEABW  Female              0     Yes         No      58          Yes   \n",
      "24  6322-HRPFA    Male              0     Yes        Yes      49          Yes   \n",
      "28  5248-YGIJN    Male              0     Yes         No      72          Yes   \n",
      "41  9489-DEDVP  Female              0     Yes        Yes      70          Yes   \n",
      "\n",
      "   MultipleLines InternetService OnlineSecurity  ... DeviceProtection  \\\n",
      "9             No             DSL            Yes  ...               No   \n",
      "23           Yes             DSL             No  ...               No   \n",
      "24            No             DSL            Yes  ...               No   \n",
      "28           Yes             DSL            Yes  ...              Yes   \n",
      "41           Yes             DSL            Yes  ...               No   \n",
      "\n",
      "   TechSupport StreamingTV StreamingMovies        Contract PaperlessBilling  \\\n",
      "9           No          No              No        One year               No   \n",
      "23         Yes          No              No        Two year              Yes   \n",
      "24         Yes          No              No  Month-to-month               No   \n",
      "28         Yes         Yes             Yes        Two year              Yes   \n",
      "41          No         Yes              No        Two year              Yes   \n",
      "\n",
      "                PaymentMethod MonthlyCharges  TotalCharges Churn  \n",
      "9   Bank transfer (automatic)          56.15       3487.95    No  \n",
      "23    Credit card (automatic)          59.90        3505.1    No  \n",
      "24    Credit card (automatic)          59.60        2970.3    No  \n",
      "28    Credit card (automatic)          90.25       6369.45    No  \n",
      "41    Credit card (automatic)          69.20       4872.35    No  \n",
      "\n",
      "[5 rows x 21 columns]\n"
     ]
    }
   ],
   "source": [
    "dsl_tenure_above_45 = df[(df['InternetService']=='DSL') & (df['tenure']>45)]\n",
    "print(dsl_tenure_above_45.head())"
   ]
  },
  {
   "cell_type": "code",
   "execution_count": 23,
   "id": "ddc8287d-06c3-43d7-b846-352615ede9af",
   "metadata": {},
   "outputs": [
    {
     "name": "stdout",
     "output_type": "stream",
     "text": [
      "118.75\n"
     ]
    }
   ],
   "source": [
    "max_tenure = df['MonthlyCharges'].max()\n",
    "print(max_tenure)"
   ]
  },
  {
   "cell_type": "code",
   "execution_count": 24,
   "id": "5a4ec8b5-03eb-46b3-af0c-07ca19ca72b8",
   "metadata": {},
   "outputs": [
    {
     "name": "stdout",
     "output_type": "stream",
     "text": [
      "75.7\n",
      "90.0\n",
      "89.55000000000001\n",
      "23.233333333333334\n"
     ]
    }
   ],
   "source": [
    "#RahulSinha_70022300517\n",
    "#1\n",
    "\n",
    "import pandas as pd\n",
    "df = pd.read_csv(\"customer_churn.csv\")\n",
    "df\n",
    "\n",
    "#a\n",
    "df.at[4,'MonthlyCharges'] +=5\n",
    "print(df.loc[4,'MonthlyCharges'])\n",
    "\n",
    "#b\n",
    "df.at[5,'MonthlyCharges'] -=9.65\n",
    "print(df.loc[5,'MonthlyCharges'])\n",
    "\n",
    "#c\n",
    "df.at[0,'MonthlyCharges'] *= 3\n",
    "print(df.loc[0,'MonthlyCharges'])\n",
    "\n",
    "#d\n",
    "df.at[36,'MonthlyCharges'] /= 3\n",
    "print(df.loc[36,'MonthlyCharges'])"
   ]
  },
  {
   "cell_type": "code",
   "execution_count": 31,
   "id": "c1ce8e69-9b5c-4731-acca-959bc5f3415c",
   "metadata": {},
   "outputs": [
    {
     "name": "stdout",
     "output_type": "stream",
     "text": [
      "False\n",
      "True\n"
     ]
    }
   ],
   "source": [
    "#RahulSinha_70022300517\n",
    "\n",
    "#2\n",
    "#a\n",
    "tenure_greater = df.at[0 , 'tenure'] > df.at[9 , 'tenure']\n",
    "print(tenure_greater)\n",
    "\n",
    "#b\n",
    "tenure_greater = df.at[2 , 'tenure'] == df.at[4 , 'tenure']\n",
    "print(tenure_greater)"
   ]
  },
  {
   "cell_type": "code",
   "execution_count": 26,
   "id": "164d85c6-85c7-4b39-ae7d-28495a7541de",
   "metadata": {},
   "outputs": [
    {
     "name": "stdout",
     "output_type": "stream",
     "text": [
      "1218\n",
      "5517\n",
      "298\n"
     ]
    }
   ],
   "source": [
    "#RahulSinha_70022300517\n",
    "\n",
    "\n",
    "#3\n",
    "#a\n",
    "both_services_count = df[(df['TechSupport']=='Yes') & (df['StreamingTV']=='Yes')].shape[0]\n",
    "print(both_services_count)\n",
    "\n",
    "#b\n",
    "internet_dsl_fiber = df[(df['InternetService']=='DSL') | (df['InternetService']=='Fiber optic')].shape[0]\n",
    "print(internet_dsl_fiber)\n",
    "\n",
    "#c\n",
    "senior_male_electronic = df[(df['gender']=='Male') & (df['PaymentMethod']=='Electronic check')& (df['SeniorCitizen']==1)].shape[0]\n",
    "print(senior_male_electronic)"
   ]
  },
  {
   "cell_type": "code",
   "execution_count": 27,
   "id": "36323188-094d-48d5-b64f-2641743f94f1",
   "metadata": {},
   "outputs": [
    {
     "name": "stdout",
     "output_type": "stream",
     "text": [
      "0\n",
      "    customerID  gender  SeniorCitizen Partner Dependents  tenure PhoneService  \\\n",
      "9   6388-TABGU    Male              0      No        Yes      62          Yes   \n",
      "23  3638-WEABW  Female              0     Yes         No      58          Yes   \n",
      "24  6322-HRPFA    Male              0     Yes        Yes      49          Yes   \n",
      "28  5248-YGIJN    Male              0     Yes         No      72          Yes   \n",
      "41  9489-DEDVP  Female              0     Yes        Yes      70          Yes   \n",
      "\n",
      "   MultipleLines InternetService OnlineSecurity  ... DeviceProtection  \\\n",
      "9             No             DSL            Yes  ...               No   \n",
      "23           Yes             DSL             No  ...               No   \n",
      "24            No             DSL            Yes  ...               No   \n",
      "28           Yes             DSL            Yes  ...              Yes   \n",
      "41           Yes             DSL            Yes  ...               No   \n",
      "\n",
      "   TechSupport StreamingTV StreamingMovies        Contract PaperlessBilling  \\\n",
      "9           No          No              No        One year               No   \n",
      "23         Yes          No              No        Two year              Yes   \n",
      "24         Yes          No              No  Month-to-month               No   \n",
      "28         Yes         Yes             Yes        Two year              Yes   \n",
      "41          No         Yes              No        Two year              Yes   \n",
      "\n",
      "                PaymentMethod MonthlyCharges  TotalCharges Churn  \n",
      "9   Bank transfer (automatic)          56.15       3487.95    No  \n",
      "23    Credit card (automatic)          59.90        3505.1    No  \n",
      "24    Credit card (automatic)          59.60        2970.3    No  \n",
      "28    Credit card (automatic)          90.25       6369.45    No  \n",
      "41    Credit card (automatic)          69.20       4872.35    No  \n",
      "\n",
      "[5 rows x 21 columns]\n",
      "72\n"
     ]
    }
   ],
   "source": [
    "#RahulSinha_70022300517\n",
    "\n",
    "#4\n",
    "\n",
    "missing_values_count = df.isnull().sum().sum()\n",
    "print(missing_values_count)\n",
    "\n",
    "dsl_tenure_above_45 = df[(df['InternetService']=='DSL') & (df['tenure']>45)]\n",
    "print(dsl_tenure_above_45.head())\n",
    "\n",
    "max_tenure = df['tenure'].max()\n",
    "print(max_tenure)"
   ]
  },
  {
   "cell_type": "code",
   "execution_count": 30,
   "id": "abf7e8d3-c91f-4e45-b4ad-5cb9feea969a",
   "metadata": {},
   "outputs": [
    {
     "data": {
      "text/plain": [
       "0    high\n",
       "1     low\n",
       "2     low\n",
       "3     low\n",
       "4     low\n",
       "Name: Tenure_Grade, dtype: object"
      ]
     },
     "execution_count": 30,
     "metadata": {},
     "output_type": "execute_result"
    }
   ],
   "source": [
    "#RahulSinha_70022300517\n",
    "\n",
    "#5\n",
    "\n",
    "df['Tenure_Grade'] = [\"low\" if (x >1 & x<=25) else 'medium' if (x>25 & x<=50) else 'high' for x in df['tenure']]\n",
    "df['Tenure_Grade'].head()"
   ]
  },
  {
   "cell_type": "code",
   "execution_count": null,
   "id": "edd58102-3a0a-4277-acb8-d14dd8bd737a",
   "metadata": {},
   "outputs": [],
   "source": []
  },
  {
   "cell_type": "code",
   "execution_count": null,
   "id": "3c11f87b-2d57-4db2-b84f-8bcf0bbd4324",
   "metadata": {},
   "outputs": [],
   "source": []
  }
 ],
 "metadata": {
  "kernelspec": {
   "display_name": "Python 3 (ipykernel)",
   "language": "python",
   "name": "python3"
  },
  "language_info": {
   "codemirror_mode": {
    "name": "ipython",
    "version": 3
   },
   "file_extension": ".py",
   "mimetype": "text/x-python",
   "name": "python",
   "nbconvert_exporter": "python",
   "pygments_lexer": "ipython3",
   "version": "3.12.1"
  }
 },
 "nbformat": 4,
 "nbformat_minor": 5
}
