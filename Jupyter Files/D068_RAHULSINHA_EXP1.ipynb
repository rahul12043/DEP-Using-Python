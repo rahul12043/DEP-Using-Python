{
  "nbformat": 4,
  "nbformat_minor": 0,
  "metadata": {
    "colab": {
      "provenance": []
    },
    "kernelspec": {
      "name": "python3",
      "display_name": "Python 3"
    },
    "language_info": {
      "name": "python"
    }
  },
  "cells": [
    {
      "cell_type": "code",
      "execution_count": null,
      "metadata": {
        "id": "IN1k1mWhWb6n"
      },
      "outputs": [],
      "source": [
        "#Rahul Sinha, D068, DIV A BATCH 2"
      ]
    },
    {
      "cell_type": "code",
      "source": [
        "import math\n",
        "\n",
        "num = int(input(\"Enter a Number: \"))\n",
        "sq = num**2\n",
        "cube = num**3\n",
        "root = math.sqrt(num)\n",
        "\n",
        "print(sq,\" \",cube,\" \",root)"
      ],
      "metadata": {
        "colab": {
          "base_uri": "https://localhost:8080/",
          "height": 0
        },
        "id": "lT0cdlTrGIPu",
        "outputId": "00d22186-4565-45f4-db84-61c5ecd80aa8"
      },
      "execution_count": 2,
      "outputs": [
        {
          "output_type": "stream",
          "name": "stdout",
          "text": [
            "Enter a Number: 2\n",
            "4   8   1.4142135623730951\n"
          ]
        }
      ]
    },
    {
      "cell_type": "code",
      "source": [
        "a,b,c = map(int, input(\"Enter three numbers: \").split())\n",
        "avg = (a+b+c)/3\n",
        "print(\"Average is: \", avg)"
      ],
      "metadata": {
        "colab": {
          "base_uri": "https://localhost:8080/",
          "height": 0
        },
        "id": "P5LhZNBjG6kR",
        "outputId": "2b4a44f8-574f-4017-b094-342eb6eb445d"
      },
      "execution_count": 3,
      "outputs": [
        {
          "output_type": "stream",
          "name": "stdout",
          "text": [
            "Enter three numbers: 1 2 3\n",
            "Average is:  2.0\n"
          ]
        }
      ]
    },
    {
      "cell_type": "code",
      "source": [
        "base = int(input(\"Enter base of right-angled triangle: \"))\n",
        "height = int(input(\"Enter height of right-angled triangle: \"))\n",
        "\n",
        "area = (1/2)*base*height\n",
        "print(\"Area is: \", area)"
      ],
      "metadata": {
        "id": "rmNSRignIYlW",
        "outputId": "87e1a0dd-0ff8-47e8-a5e6-7b1d37c3f0ec",
        "colab": {
          "base_uri": "https://localhost:8080/",
          "height": 0
        }
      },
      "execution_count": 4,
      "outputs": [
        {
          "output_type": "stream",
          "name": "stdout",
          "text": [
            "Enter base of right-angled triangle: 2\n",
            "Enter height of right-angled triangle: 3\n",
            "Area is:  3.0\n"
          ]
        }
      ]
    },
    {
      "cell_type": "code",
      "source": [
        "p = int(input(\"Enter principal amount: \"))\n",
        "r = int(input(\"Enter interest rate: \"))\n",
        "t = int(input(\"Enter time (in years): \"))\n",
        "si = (p*r*t)/100\n",
        "print(\"Simple interest is: \", si)"
      ],
      "metadata": {
        "id": "alI8-omfIt37",
        "outputId": "e0259362-6010-40f8-b2cf-d992189c26c0",
        "colab": {
          "base_uri": "https://localhost:8080/",
          "height": 0
        }
      },
      "execution_count": 6,
      "outputs": [
        {
          "output_type": "stream",
          "name": "stdout",
          "text": [
            "Enter principal amount: 100\n",
            "Enter interest rate: 5\n",
            "Enter time (in years): 5\n",
            "Simple interest is:  25.0\n"
          ]
        }
      ]
    },
    {
      "cell_type": "code",
      "source": [
        "c = float(input(\"Enter temperature in Celsius: \"))\n",
        "f = (9/5)*c+32\n",
        "print(\"Temperature in Fahrenheit: \", f)"
      ],
      "metadata": {
        "id": "HzurEXQaJeyy",
        "outputId": "c4f0af69-f3e7-476d-c9fc-6662d390526c",
        "colab": {
          "base_uri": "https://localhost:8080/",
          "height": 0
        }
      },
      "execution_count": 8,
      "outputs": [
        {
          "output_type": "stream",
          "name": "stdout",
          "text": [
            "Enter temperature in Celsius: 32\n",
            "Temperature in Fahrenheit:  89.6\n"
          ]
        }
      ]
    },
    {
      "cell_type": "code",
      "source": [
        "import math\n",
        "\n",
        "x1 = int(input(\"Enter x co-ordinate of first point: \"))\n",
        "y1 = int(input(\"Enter y co-ordinate of first point: \"))\n",
        "x2 = int(input(\"Enter x co-ordinate of second point: \"))\n",
        "y2 = int(input(\"Enter y co-ordinate of second point: \"))\n",
        "\n",
        "dist = math.sqrt((x2-x1)**2+(y2-y1)**2)\n",
        "print(\"Euclidean distance between the two points is:\", dist)"
      ],
      "metadata": {
        "id": "FtlzfC_oJ-B_",
        "outputId": "038d27da-23e8-43d4-a36a-80fb8a00b89e",
        "colab": {
          "base_uri": "https://localhost:8080/",
          "height": 0
        }
      },
      "execution_count": 9,
      "outputs": [
        {
          "output_type": "stream",
          "name": "stdout",
          "text": [
            "Enter x co-ordinate of first point: 2\n",
            "Enter y co-ordinate of first point: 4\n",
            "Enter x co-ordinate of second point: 1\n",
            "Enter y co-ordinate of second point: 5\n",
            "Euclidean distance between the two points is: 1.4142135623730951\n"
          ]
        }
      ]
    },
    {
      "cell_type": "code",
      "source": [
        "\n",
        "x = int(input(\"Enter first number: \"))\n",
        "y = int(input(\"Enter second number: \"))\n",
        "\n",
        "print(\"Numbers before swapping: \", end=\"\\n\")\n",
        "print(\"1st no: \", x,\" \", \"2nd no: \", y)\n",
        "\n",
        "temp = x\n",
        "x = y\n",
        "y = temp\n",
        "\n",
        "print(\"Numbers after swapping (using temp): \", end=\"\\n\")\n",
        "print(\"1st no: \", x,\" \", \"2nd no: \", y)\n",
        "\n",
        "x,y = y,x\n",
        "\n",
        "print(\"Numbers after swapping (using commma operator): \", end=\"\\n\")\n",
        "print(\"1st no: \", x,\" \", \"2nd no: \", y)\n",
        "\n",
        "x = x ^ y\n",
        "y = x ^ y\n",
        "x = x ^ y\n",
        "\n",
        "print(\"Numbers after swapping (using XOR operator): \", end=\"\\n\")\n",
        "print(\"1st no: \", x,\" \", \"2nd no: \", y)"
      ],
      "metadata": {
        "id": "MWYGgTHwKwYj",
        "outputId": "60303de8-1c1d-428f-bd37-e1ba95ceab9a",
        "colab": {
          "base_uri": "https://localhost:8080/",
          "height": 0
        }
      },
      "execution_count": 14,
      "outputs": [
        {
          "output_type": "stream",
          "name": "stdout",
          "text": [
            "Enter first number: 2\n",
            "Enter second number: 3\n",
            "Numbers before swapping: \n",
            "1st no:  2   2nd no:  3\n",
            "Numbers after swapping (using temp): \n",
            "1st no:  3   2nd no:  2\n",
            "Numbers after swapping (using commma operator): \n",
            "1st no:  2   2nd no:  3\n",
            "Numbers after swapping (using XOR operator): \n",
            "1st no:  3   2nd no:  2\n"
          ]
        }
      ]
    },
    {
      "cell_type": "code",
      "source": [
        "import math\n",
        "\n",
        "a,b,c = map(int, input(\"Enter coefficients of quadratic equation (a,b,c respectively): \").split())\n",
        "\n",
        "d = b**2 - 4*a*c\n",
        "\n",
        "if d >= 0:\n",
        "\n",
        "  rt1 = (-b+math.sqrt(d))/(2*a)\n",
        "  rt2 = (-b-math.sqrt(d))/(2*a)\n",
        "\n",
        "  print(\"Roots of the equation: \", end=\"\\n\")\n",
        "  print(rt1,\" \", rt2)\n",
        "\n",
        "else:\n",
        "  print(\"No real roots.\")\n"
      ],
      "metadata": {
        "id": "C4tbfFlgNRcw",
        "outputId": "3ea4aced-62db-4737-d004-d99237d0be6b",
        "colab": {
          "base_uri": "https://localhost:8080/",
          "height": 0
        }
      },
      "execution_count": 23,
      "outputs": [
        {
          "output_type": "stream",
          "name": "stdout",
          "text": [
            "Enter coefficients of quadratic equation (a,b,c respectively): 2 43 21\n",
            "Roots of the equation: \n",
            "-0.5   -21.0\n"
          ]
        }
      ]
    }
  ]
}