{
  "nbformat": 4,
  "nbformat_minor": 0,
  "metadata": {
    "colab": {
      "provenance": []
    },
    "kernelspec": {
      "name": "python3",
      "display_name": "Python 3"
    },
    "language_info": {
      "name": "python"
    }
  },
  "cells": [
    {
      "cell_type": "code",
      "execution_count": null,
      "metadata": {
        "colab": {
          "base_uri": "https://localhost:8080/"
        },
        "id": "MNEnDcxkFE9Q",
        "outputId": "740bbe2d-1c66-4a10-a5c4-eed0ea6c823c"
      },
      "outputs": [
        {
          "output_type": "stream",
          "name": "stdout",
          "text": [
            "<class 'pandas.core.frame.DataFrame'>\n",
            "RangeIndex: 1436 entries, 0 to 1435\n",
            "Data columns (total 11 columns):\n",
            " #   Column      Non-Null Count  Dtype  \n",
            "---  ------      --------------  -----  \n",
            " 0   Unnamed: 0  1436 non-null   int64  \n",
            " 1   Price       1436 non-null   int64  \n",
            " 2   Age         1336 non-null   float64\n",
            " 3   KM          1436 non-null   object \n",
            " 4   FuelType    1336 non-null   object \n",
            " 5   HP          1436 non-null   object \n",
            " 6   MetColor    1286 non-null   float64\n",
            " 7   Automatic   1436 non-null   int64  \n",
            " 8   CC          1436 non-null   int64  \n",
            " 9   Doors       1436 non-null   object \n",
            " 10  Weight      1436 non-null   int64  \n",
            "dtypes: float64(2), int64(5), object(4)\n",
            "memory usage: 123.5+ KB\n"
          ]
        }
      ],
      "source": [
        "#1\n",
        "import pandas as pd\n",
        "\n",
        "toyota_df = pd.read_csv('Toyota.csv')\n",
        "\n",
        "#display the structure of dataset\n",
        "toyota_df.info()"
      ]
    },
    {
      "cell_type": "code",
      "source": [
        "#2\n",
        "import pandas as pd\n",
        "\n",
        "toyota_df = pd.read_csv('Toyota.csv')\n",
        "toyota_df.info()\n",
        "print( toyota_df.shape)\n",
        "print(toyota_df.info())\n",
        "print(toyota_df.describe())"
      ],
      "metadata": {
        "colab": {
          "base_uri": "https://localhost:8080/"
        },
        "id": "VD8BlX6RFf5X",
        "outputId": "82126e43-c19a-4f81-c6b2-bba3114b591c"
      },
      "execution_count": null,
      "outputs": [
        {
          "output_type": "stream",
          "name": "stdout",
          "text": [
            "<class 'pandas.core.frame.DataFrame'>\n",
            "RangeIndex: 1436 entries, 0 to 1435\n",
            "Data columns (total 11 columns):\n",
            " #   Column      Non-Null Count  Dtype  \n",
            "---  ------      --------------  -----  \n",
            " 0   Unnamed: 0  1436 non-null   int64  \n",
            " 1   Price       1436 non-null   int64  \n",
            " 2   Age         1336 non-null   float64\n",
            " 3   KM          1436 non-null   object \n",
            " 4   FuelType    1336 non-null   object \n",
            " 5   HP          1436 non-null   object \n",
            " 6   MetColor    1286 non-null   float64\n",
            " 7   Automatic   1436 non-null   int64  \n",
            " 8   CC          1436 non-null   int64  \n",
            " 9   Doors       1436 non-null   object \n",
            " 10  Weight      1436 non-null   int64  \n",
            "dtypes: float64(2), int64(5), object(4)\n",
            "memory usage: 123.5+ KB\n",
            "(1436, 11)\n",
            "<class 'pandas.core.frame.DataFrame'>\n",
            "RangeIndex: 1436 entries, 0 to 1435\n",
            "Data columns (total 11 columns):\n",
            " #   Column      Non-Null Count  Dtype  \n",
            "---  ------      --------------  -----  \n",
            " 0   Unnamed: 0  1436 non-null   int64  \n",
            " 1   Price       1436 non-null   int64  \n",
            " 2   Age         1336 non-null   float64\n",
            " 3   KM          1436 non-null   object \n",
            " 4   FuelType    1336 non-null   object \n",
            " 5   HP          1436 non-null   object \n",
            " 6   MetColor    1286 non-null   float64\n",
            " 7   Automatic   1436 non-null   int64  \n",
            " 8   CC          1436 non-null   int64  \n",
            " 9   Doors       1436 non-null   object \n",
            " 10  Weight      1436 non-null   int64  \n",
            "dtypes: float64(2), int64(5), object(4)\n",
            "memory usage: 123.5+ KB\n",
            "None\n",
            "        Unnamed: 0         Price          Age     MetColor    Automatic  \\\n",
            "count  1436.000000   1436.000000  1336.000000  1286.000000  1436.000000   \n",
            "mean    717.500000  10730.824513    55.672156     0.674961     0.055710   \n",
            "std     414.681806   3626.964585    18.589804     0.468572     0.229441   \n",
            "min       0.000000   4350.000000     1.000000     0.000000     0.000000   \n",
            "25%     358.750000   8450.000000    43.000000     0.000000     0.000000   \n",
            "50%     717.500000   9900.000000    60.000000     1.000000     0.000000   \n",
            "75%    1076.250000  11950.000000    70.000000     1.000000     0.000000   \n",
            "max    1435.000000  32500.000000    80.000000     1.000000     1.000000   \n",
            "\n",
            "                CC      Weight  \n",
            "count  1436.000000  1436.00000  \n",
            "mean   1566.827994  1072.45961  \n",
            "std     187.182436    52.64112  \n",
            "min    1300.000000  1000.00000  \n",
            "25%    1400.000000  1040.00000  \n",
            "50%    1600.000000  1070.00000  \n",
            "75%    1600.000000  1085.00000  \n",
            "max    2000.000000  1615.00000  \n"
          ]
        }
      ]
    },
    {
      "cell_type": "code",
      "source": [
        "#3\n",
        "import pandas as pd\n",
        "\n",
        "toyota_df = pd.read_csv('Toyota.csv')\n",
        "toyota_df.info()\n",
        "print(toyota_df.columns)"
      ],
      "metadata": {
        "colab": {
          "base_uri": "https://localhost:8080/"
        },
        "id": "pTig7joLGEb-",
        "outputId": "2f267ac1-82e6-48c0-8709-55980b00bd59"
      },
      "execution_count": null,
      "outputs": [
        {
          "output_type": "stream",
          "name": "stdout",
          "text": [
            "<class 'pandas.core.frame.DataFrame'>\n",
            "RangeIndex: 1436 entries, 0 to 1435\n",
            "Data columns (total 11 columns):\n",
            " #   Column      Non-Null Count  Dtype  \n",
            "---  ------      --------------  -----  \n",
            " 0   Unnamed: 0  1436 non-null   int64  \n",
            " 1   Price       1436 non-null   int64  \n",
            " 2   Age         1336 non-null   float64\n",
            " 3   KM          1436 non-null   object \n",
            " 4   FuelType    1336 non-null   object \n",
            " 5   HP          1436 non-null   object \n",
            " 6   MetColor    1286 non-null   float64\n",
            " 7   Automatic   1436 non-null   int64  \n",
            " 8   CC          1436 non-null   int64  \n",
            " 9   Doors       1436 non-null   object \n",
            " 10  Weight      1436 non-null   int64  \n",
            "dtypes: float64(2), int64(5), object(4)\n",
            "memory usage: 123.5+ KB\n",
            "Index(['Unnamed: 0', 'Price', 'Age', 'KM', 'FuelType', 'HP', 'MetColor',\n",
            "       'Automatic', 'CC', 'Doors', 'Weight'],\n",
            "      dtype='object')\n"
          ]
        }
      ]
    },
    {
      "cell_type": "code",
      "source": [
        "#4\n",
        "import pandas as pd\n",
        "\n",
        "toyota_df = pd.read_csv('Toyota.csv')\n",
        "toyota_df.info()\n",
        "fuel_type_forth = toyota_df.loc[3 , 'FuelType']\n",
        "print(fuel_type_forth)"
      ],
      "metadata": {
        "colab": {
          "base_uri": "https://localhost:8080/"
        },
        "id": "lBVgz3ObG5Wt",
        "outputId": "e854523c-a4e6-4671-9bdd-68a953e3edfa"
      },
      "execution_count": null,
      "outputs": [
        {
          "output_type": "stream",
          "name": "stdout",
          "text": [
            "<class 'pandas.core.frame.DataFrame'>\n",
            "RangeIndex: 1436 entries, 0 to 1435\n",
            "Data columns (total 11 columns):\n",
            " #   Column      Non-Null Count  Dtype  \n",
            "---  ------      --------------  -----  \n",
            " 0   Unnamed: 0  1436 non-null   int64  \n",
            " 1   Price       1436 non-null   int64  \n",
            " 2   Age         1336 non-null   float64\n",
            " 3   KM          1436 non-null   object \n",
            " 4   FuelType    1336 non-null   object \n",
            " 5   HP          1436 non-null   object \n",
            " 6   MetColor    1286 non-null   float64\n",
            " 7   Automatic   1436 non-null   int64  \n",
            " 8   CC          1436 non-null   int64  \n",
            " 9   Doors       1436 non-null   object \n",
            " 10  Weight      1436 non-null   int64  \n",
            "dtypes: float64(2), int64(5), object(4)\n",
            "memory usage: 123.5+ KB\n",
            "Diesel\n"
          ]
        }
      ]
    },
    {
      "cell_type": "code",
      "source": [
        "#5\n",
        "import pandas as pd\n",
        "\n",
        "toyota_df = pd.read_csv('Toyota.csv')\n",
        "toyota_df.info()\n",
        "second_column_forth = toyota_df.iloc[3 , 1]\n",
        "print(second_column_forth)"
      ],
      "metadata": {
        "colab": {
          "base_uri": "https://localhost:8080/"
        },
        "id": "qO25u2dOHkPO",
        "outputId": "5baf53a0-9c40-4d1b-a63f-8d26f0697ff2"
      },
      "execution_count": null,
      "outputs": [
        {
          "output_type": "stream",
          "name": "stdout",
          "text": [
            "<class 'pandas.core.frame.DataFrame'>\n",
            "RangeIndex: 1436 entries, 0 to 1435\n",
            "Data columns (total 11 columns):\n",
            " #   Column      Non-Null Count  Dtype  \n",
            "---  ------      --------------  -----  \n",
            " 0   Unnamed: 0  1436 non-null   int64  \n",
            " 1   Price       1436 non-null   int64  \n",
            " 2   Age         1336 non-null   float64\n",
            " 3   KM          1436 non-null   object \n",
            " 4   FuelType    1336 non-null   object \n",
            " 5   HP          1436 non-null   object \n",
            " 6   MetColor    1286 non-null   float64\n",
            " 7   Automatic   1436 non-null   int64  \n",
            " 8   CC          1436 non-null   int64  \n",
            " 9   Doors       1436 non-null   object \n",
            " 10  Weight      1436 non-null   int64  \n",
            "dtypes: float64(2), int64(5), object(4)\n",
            "memory usage: 123.5+ KB\n",
            "14950\n"
          ]
        }
      ]
    },
    {
      "cell_type": "code",
      "source": [
        "#6\n",
        "import pandas as pd\n",
        "\n",
        "toyota_df = pd.read_csv('Toyota.csv')\n",
        "toyota_df.info()\n",
        "fuel_type_all = toyota_df['FuelType']\n",
        "print(fuel_type_all)"
      ],
      "metadata": {
        "colab": {
          "base_uri": "https://localhost:8080/"
        },
        "id": "TLlCtmrTIop9",
        "outputId": "87887ba6-9489-485b-cf7d-f7233c972156"
      },
      "execution_count": null,
      "outputs": [
        {
          "output_type": "stream",
          "name": "stdout",
          "text": [
            "<class 'pandas.core.frame.DataFrame'>\n",
            "RangeIndex: 1436 entries, 0 to 1435\n",
            "Data columns (total 11 columns):\n",
            " #   Column      Non-Null Count  Dtype  \n",
            "---  ------      --------------  -----  \n",
            " 0   Unnamed: 0  1436 non-null   int64  \n",
            " 1   Price       1436 non-null   int64  \n",
            " 2   Age         1336 non-null   float64\n",
            " 3   KM          1436 non-null   object \n",
            " 4   FuelType    1336 non-null   object \n",
            " 5   HP          1436 non-null   object \n",
            " 6   MetColor    1286 non-null   float64\n",
            " 7   Automatic   1436 non-null   int64  \n",
            " 8   CC          1436 non-null   int64  \n",
            " 9   Doors       1436 non-null   object \n",
            " 10  Weight      1436 non-null   int64  \n",
            "dtypes: float64(2), int64(5), object(4)\n",
            "memory usage: 123.5+ KB\n",
            "0       Diesel\n",
            "1       Diesel\n",
            "2       Diesel\n",
            "3       Diesel\n",
            "4       Diesel\n",
            "         ...  \n",
            "1431    Petrol\n",
            "1432    Petrol\n",
            "1433    Petrol\n",
            "1434       NaN\n",
            "1435    Petrol\n",
            "Name: FuelType, Length: 1436, dtype: object\n"
          ]
        }
      ]
    },
    {
      "cell_type": "code",
      "source": [
        "#7\n",
        "import pandas as pd\n",
        "\n",
        "toyota_df = pd.read_csv('Toyota.csv')\n",
        "\n",
        "km_hp_auto = toyota_df[['KM', 'HP' , 'Automatic']]\n",
        "print(km_hp_auto)"
      ],
      "metadata": {
        "colab": {
          "base_uri": "https://localhost:8080/"
        },
        "id": "4MMO26Gs5xX-",
        "outputId": "d02da6d3-5843-42b7-8108-5abea3ce1bab"
      },
      "execution_count": null,
      "outputs": [
        {
          "output_type": "stream",
          "name": "stdout",
          "text": [
            "         KM   HP  Automatic\n",
            "0     46986   90          0\n",
            "1     72937   90          0\n",
            "2     41711   90          0\n",
            "3     48000   90          0\n",
            "4     38500   90          0\n",
            "...     ...  ...        ...\n",
            "1431  20544   86          0\n",
            "1432     ??   86          0\n",
            "1433  17016   86          0\n",
            "1434     ??   86          0\n",
            "1435      1  110          0\n",
            "\n",
            "[1436 rows x 3 columns]\n"
          ]
        }
      ]
    },
    {
      "cell_type": "code",
      "source": [
        "#8\n",
        "import pandas as pd\n",
        "toyota_df = pd.read_csv('Toyota.csv')\n",
        "subset_df = toyota_df.iloc[0:5 , 1:4]\n",
        "print(subset_df)"
      ],
      "metadata": {
        "colab": {
          "base_uri": "https://localhost:8080/"
        },
        "id": "g1Tc6JaK7QEF",
        "outputId": "ff534935-e606-424a-932b-80a6b4f03991"
      },
      "execution_count": null,
      "outputs": [
        {
          "output_type": "stream",
          "name": "stdout",
          "text": [
            "   Price   Age     KM\n",
            "0  13500  23.0  46986\n",
            "1  13750  23.0  72937\n",
            "2  13950  24.0  41711\n",
            "3  14950  26.0  48000\n",
            "4  13750  30.0  38500\n"
          ]
        }
      ]
    },
    {
      "cell_type": "code",
      "source": [
        "#9\n",
        "import pandas as pd\n",
        "\n",
        "toyota_df = pd.read_csv('Toyota.csv')\n",
        "print(toyota_df.info())"
      ],
      "metadata": {
        "colab": {
          "base_uri": "https://localhost:8080/"
        },
        "id": "QHyWuhNF8GDt",
        "outputId": "a9e29aef-f953-43ce-a415-2b21733bc1c8"
      },
      "execution_count": null,
      "outputs": [
        {
          "output_type": "stream",
          "name": "stdout",
          "text": [
            "<class 'pandas.core.frame.DataFrame'>\n",
            "RangeIndex: 1436 entries, 0 to 1435\n",
            "Data columns (total 11 columns):\n",
            " #   Column      Non-Null Count  Dtype  \n",
            "---  ------      --------------  -----  \n",
            " 0   Unnamed: 0  1436 non-null   int64  \n",
            " 1   Price       1436 non-null   int64  \n",
            " 2   Age         1336 non-null   float64\n",
            " 3   KM          1436 non-null   object \n",
            " 4   FuelType    1336 non-null   object \n",
            " 5   HP          1436 non-null   object \n",
            " 6   MetColor    1286 non-null   float64\n",
            " 7   Automatic   1436 non-null   int64  \n",
            " 8   CC          1436 non-null   int64  \n",
            " 9   Doors       1436 non-null   object \n",
            " 10  Weight      1436 non-null   int64  \n",
            "dtypes: float64(2), int64(5), object(4)\n",
            "memory usage: 123.5+ KB\n",
            "None\n"
          ]
        }
      ]
    },
    {
      "cell_type": "code",
      "source": [
        "#10\n",
        "import pandas as pd\n",
        "\n",
        "toyota_df = pd.read_csv('Toyota.csv')\n",
        "new_df = toyota_df.replace(to_replace = '??', value = 'NaN')\n",
        "print(new_df)"
      ],
      "metadata": {
        "colab": {
          "base_uri": "https://localhost:8080/"
        },
        "id": "y9zghKAy8ZyE",
        "outputId": "78bc55a4-3df3-44cb-e36f-2814466572f5"
      },
      "execution_count": null,
      "outputs": [
        {
          "output_type": "stream",
          "name": "stdout",
          "text": [
            "      Unnamed: 0  Price   Age     KM FuelType   HP  MetColor  Automatic    CC  \\\n",
            "0              0  13500  23.0  46986   Diesel   90       1.0          0  2000   \n",
            "1              1  13750  23.0  72937   Diesel   90       1.0          0  2000   \n",
            "2              2  13950  24.0  41711   Diesel   90       NaN          0  2000   \n",
            "3              3  14950  26.0  48000   Diesel   90       0.0          0  2000   \n",
            "4              4  13750  30.0  38500   Diesel   90       0.0          0  2000   \n",
            "...          ...    ...   ...    ...      ...  ...       ...        ...   ...   \n",
            "1431        1431   7500   NaN  20544   Petrol   86       1.0          0  1300   \n",
            "1432        1432  10845  72.0    NaN   Petrol   86       0.0          0  1300   \n",
            "1433        1433   8500   NaN  17016   Petrol   86       0.0          0  1300   \n",
            "1434        1434   7250  70.0    NaN      NaN   86       1.0          0  1300   \n",
            "1435        1435   6950  76.0      1   Petrol  110       0.0          0  1600   \n",
            "\n",
            "      Doors  Weight  \n",
            "0     three    1165  \n",
            "1         3    1165  \n",
            "2         3    1165  \n",
            "3         3    1165  \n",
            "4         3    1170  \n",
            "...     ...     ...  \n",
            "1431      3    1025  \n",
            "1432      3    1015  \n",
            "1433      3    1015  \n",
            "1434      3    1015  \n",
            "1435      5    1114  \n",
            "\n",
            "[1436 rows x 11 columns]\n"
          ]
        }
      ]
    },
    {
      "cell_type": "code",
      "source": [
        "#11\n",
        "import pandas as pd\n",
        "\n",
        "toyota_df = pd.read_csv('Toyota.csv')\n",
        "toyota_df['Doors'] = toyota_df['Doors'].replace({'two':2 , 'three':3 , 'four':4 , 'five':5})\n",
        "print(toyota_df['Doors'])\n",
        "print(toyota_df.info())"
      ],
      "metadata": {
        "colab": {
          "base_uri": "https://localhost:8080/"
        },
        "id": "f4TEyI9g9RjV",
        "outputId": "337a37cb-a524-49d7-e2b3-58824a51affa"
      },
      "execution_count": null,
      "outputs": [
        {
          "output_type": "stream",
          "name": "stdout",
          "text": [
            "0       3\n",
            "1       3\n",
            "2       3\n",
            "3       3\n",
            "4       3\n",
            "       ..\n",
            "1431    3\n",
            "1432    3\n",
            "1433    3\n",
            "1434    3\n",
            "1435    5\n",
            "Name: Doors, Length: 1436, dtype: object\n",
            "<class 'pandas.core.frame.DataFrame'>\n",
            "RangeIndex: 1436 entries, 0 to 1435\n",
            "Data columns (total 11 columns):\n",
            " #   Column      Non-Null Count  Dtype  \n",
            "---  ------      --------------  -----  \n",
            " 0   Unnamed: 0  1436 non-null   int64  \n",
            " 1   Price       1436 non-null   int64  \n",
            " 2   Age         1336 non-null   float64\n",
            " 3   KM          1436 non-null   object \n",
            " 4   FuelType    1336 non-null   object \n",
            " 5   HP          1436 non-null   object \n",
            " 6   MetColor    1286 non-null   float64\n",
            " 7   Automatic   1436 non-null   int64  \n",
            " 8   CC          1436 non-null   int64  \n",
            " 9   Doors       1436 non-null   object \n",
            " 10  Weight      1436 non-null   int64  \n",
            "dtypes: float64(2), int64(5), object(4)\n",
            "memory usage: 123.5+ KB\n",
            "None\n"
          ]
        }
      ]
    },
    {
      "cell_type": "code",
      "source": [
        "#12\n",
        "import pandas as pd\n",
        "\n",
        "toyota_df = pd.read_csv('Toyota.csv')\n",
        "unique_km = toyota_df['KM'].unique()\n",
        "unique_hp = toyota_df['HP'].unique()\n",
        "unique_doors = toyota_df['Doors'].unique()\n",
        "\n",
        "print(f'unique KM values: {unique_km}')\n",
        "print(f'unique HP values: {unique_hp}')\n",
        "print(f'unique Doors values: {unique_doors}')"
      ],
      "metadata": {
        "colab": {
          "base_uri": "https://localhost:8080/"
        },
        "id": "jgCTgZrR-hPM",
        "outputId": "be4d60ab-6f95-4514-9a3f-cb9cb0e21db3"
      },
      "execution_count": null,
      "outputs": [
        {
          "output_type": "stream",
          "name": "stdout",
          "text": [
            "unique KM values: ['46986' '72937' '41711' ... '30964' '20544' '17016']\n",
            "unique HP values: ['90' '????' '192' '110' '97' '71' '116' '98' '69' '86' '72' '107' '73']\n",
            "unique Doors values: ['three' '3' '5' '4' 'four' 'five' '2']\n"
          ]
        }
      ]
    },
    {
      "cell_type": "code",
      "source": [
        "#13\n",
        "import pandas as pd\n",
        "\n",
        "toyota_df = pd.read_csv('Toyota.csv')\n",
        "toyota_df = toyota_df.replace(to_replace='??', value=None)\n",
        "toyota_df['Doors'] = toyota_df['Doors'].replace({'two': 2, 'three': 3, 'four': 4, 'five': 5})\n",
        "toyota_df['Doors'] = pd.to_numeric(toyota_df['Doors'])\n",
        "toyota_df['MetColor'] = pd.to_numeric(toyota_df['MetColor'])\n",
        "toyota_df['Automatic'] = pd.to_numeric(toyota_df['Automatic'])\n",
        "\n",
        "toyota_df['Doors'] = pd.to_numeric(toyota_df['Doors']).astype('Int64')\n",
        "toyota_df['MetColor'] = pd.to_numeric(toyota_df['MetColor']).astype('Int64')\n",
        "toyota_df['Automatic'] = pd.to_numeric(toyota_df['Automatic']).astype('Int64')\n",
        "print(toyota_df[['Doors', 'MetColor', 'Automatic']].dtypes)"
      ],
      "metadata": {
        "colab": {
          "base_uri": "https://localhost:8080/"
        },
        "id": "9P9fvT3G_jUt",
        "outputId": "f04a1a69-59ee-4b3f-de20-79820b09f169"
      },
      "execution_count": null,
      "outputs": [
        {
          "output_type": "stream",
          "name": "stdout",
          "text": [
            "Doors        Int64\n",
            "MetColor     Int64\n",
            "Automatic    Int64\n",
            "dtype: object\n"
          ]
        }
      ]
    },
    {
      "cell_type": "code",
      "source": [
        "#14\n",
        "import pandas as pd\n",
        "\n",
        "toyota_df = pd.read_csv('Toyota.csv')\n",
        "null_values = toyota_df.isnull().sum()\n",
        "print(null_values)"
      ],
      "metadata": {
        "colab": {
          "base_uri": "https://localhost:8080/"
        },
        "id": "O4xu-EscCd32",
        "outputId": "9a0b708c-7606-415b-b685-8a042cf73a9c"
      },
      "execution_count": null,
      "outputs": [
        {
          "output_type": "stream",
          "name": "stdout",
          "text": [
            "Unnamed: 0      0\n",
            "Price           0\n",
            "Age           100\n",
            "KM              0\n",
            "FuelType      100\n",
            "HP              0\n",
            "MetColor      150\n",
            "Automatic       0\n",
            "CC              0\n",
            "Doors           0\n",
            "Weight          0\n",
            "dtype: int64\n"
          ]
        }
      ]
    },
    {
      "cell_type": "code",
      "source": [
        "#15\n",
        "import pandas as pd\n",
        "\n",
        "toyota_df = pd.read_csv('Toyota.csv')\n",
        "toyota_df_cleaned = toyota_df.dropna()\n",
        "print(toyota_df_cleaned)"
      ],
      "metadata": {
        "colab": {
          "base_uri": "https://localhost:8080/"
        },
        "id": "C9XeE3vRCws-",
        "outputId": "d0e6775e-5c3a-4ace-b78b-aedbc15987f3"
      },
      "execution_count": null,
      "outputs": [
        {
          "output_type": "stream",
          "name": "stdout",
          "text": [
            "      Unnamed: 0  Price   Age     KM FuelType   HP  MetColor  Automatic    CC  \\\n",
            "0              0  13500  23.0  46986   Diesel   90       1.0          0  2000   \n",
            "1              1  13750  23.0  72937   Diesel   90       1.0          0  2000   \n",
            "3              3  14950  26.0  48000   Diesel   90       0.0          0  2000   \n",
            "4              4  13750  30.0  38500   Diesel   90       0.0          0  2000   \n",
            "5              5  12950  32.0  61000   Diesel   90       0.0          0  2000   \n",
            "...          ...    ...   ...    ...      ...  ...       ...        ...   ...   \n",
            "1425        1425   7950  80.0     ??   Petrol   86       1.0          0  1300   \n",
            "1429        1429   8950  78.0  24000   Petrol   86       1.0          1  1300   \n",
            "1430        1430   8450  80.0  23000   Petrol   86       0.0          0  1300   \n",
            "1432        1432  10845  72.0     ??   Petrol   86       0.0          0  1300   \n",
            "1435        1435   6950  76.0      1   Petrol  110       0.0          0  1600   \n",
            "\n",
            "      Doors  Weight  \n",
            "0     three    1165  \n",
            "1         3    1165  \n",
            "3         3    1165  \n",
            "4         3    1170  \n",
            "5         3    1170  \n",
            "...     ...     ...  \n",
            "1425      4    1000  \n",
            "1429      5    1065  \n",
            "1430      3    1015  \n",
            "1432      3    1015  \n",
            "1435      5    1114  \n",
            "\n",
            "[1111 rows x 11 columns]\n"
          ]
        }
      ]
    },
    {
      "cell_type": "code",
      "source": [
        "#16\n",
        "import pandas as pd\n",
        "\n",
        "toyota_df = pd.read_csv('Toyota.csv')\n",
        "car_fuel_counts = toyota_df[toyota_df['FuelType'].isin(['Petrol', 'Diesel', 'CNG'])]['FuelType'].value_counts()\n",
        "print(car_fuel_counts)"
      ],
      "metadata": {
        "colab": {
          "base_uri": "https://localhost:8080/"
        },
        "id": "DlRQy0FHDKAy",
        "outputId": "d961751a-5140-4fc9-abc2-a524fbb57517"
      },
      "execution_count": null,
      "outputs": [
        {
          "output_type": "stream",
          "name": "stdout",
          "text": [
            "FuelType\n",
            "Petrol    1177\n",
            "Diesel     144\n",
            "CNG         15\n",
            "Name: count, dtype: int64\n"
          ]
        }
      ]
    },
    {
      "cell_type": "code",
      "source": [
        "#17\n",
        "import pandas as pd\n",
        "\n",
        "toyota_df = pd.read_csv('Toyota.csv')\n",
        "toyota_df = toyota_df.replace(to_replace='??', value=None)\n",
        "toyota_df['KM'] = pd.to_numeric(toyota_df['KM'])\n",
        "mean_km_diesel = toyota_df[toyota_df['FuelType'] == 'Diesel']['KM'].mean()\n",
        "print(f'Mean KM for Diesel cars: {mean_km_diesel}')\n",
        "print (toyota_df)\n",
        "print(toyota_df.head(7))"
      ],
      "metadata": {
        "colab": {
          "base_uri": "https://localhost:8080/"
        },
        "id": "D0R7rTxxEmUl",
        "outputId": "adeb3487-77fa-44c8-e67c-e96da6500c7c"
      },
      "execution_count": null,
      "outputs": [
        {
          "output_type": "stream",
          "name": "stdout",
          "text": [
            "Mean KM for Diesel cars: 114927.87857142858\n",
            "      Unnamed: 0  Price   Age       KM FuelType   HP  MetColor  Automatic  \\\n",
            "0              0  13500  23.0  46986.0   Diesel   90       1.0          0   \n",
            "1              1  13750  23.0  72937.0   Diesel   90       1.0          0   \n",
            "2              2  13950  24.0  41711.0   Diesel   90       NaN          0   \n",
            "3              3  14950  26.0  48000.0   Diesel   90       0.0          0   \n",
            "4              4  13750  30.0  38500.0   Diesel   90       0.0          0   \n",
            "...          ...    ...   ...      ...      ...  ...       ...        ...   \n",
            "1431        1431   7500   NaN  20544.0   Petrol   86       1.0          0   \n",
            "1432        1432  10845  72.0      NaN   Petrol   86       0.0          0   \n",
            "1433        1433   8500   NaN  17016.0   Petrol   86       0.0          0   \n",
            "1434        1434   7250  70.0      NaN      NaN   86       1.0          0   \n",
            "1435        1435   6950  76.0      1.0   Petrol  110       0.0          0   \n",
            "\n",
            "        CC  Doors  Weight  \n",
            "0     2000  three    1165  \n",
            "1     2000      3    1165  \n",
            "2     2000      3    1165  \n",
            "3     2000      3    1165  \n",
            "4     2000      3    1170  \n",
            "...    ...    ...     ...  \n",
            "1431  1300      3    1025  \n",
            "1432  1300      3    1015  \n",
            "1433  1300      3    1015  \n",
            "1434  1300      3    1015  \n",
            "1435  1600      5    1114  \n",
            "\n",
            "[1436 rows x 11 columns]\n",
            "   Unnamed: 0  Price   Age       KM FuelType    HP  MetColor  Automatic    CC  \\\n",
            "0           0  13500  23.0  46986.0   Diesel    90       1.0          0  2000   \n",
            "1           1  13750  23.0  72937.0   Diesel    90       1.0          0  2000   \n",
            "2           2  13950  24.0  41711.0   Diesel    90       NaN          0  2000   \n",
            "3           3  14950  26.0  48000.0   Diesel    90       0.0          0  2000   \n",
            "4           4  13750  30.0  38500.0   Diesel    90       0.0          0  2000   \n",
            "5           5  12950  32.0  61000.0   Diesel    90       0.0          0  2000   \n",
            "6           6  16900  27.0      NaN   Diesel  ????       NaN          0  2000   \n",
            "\n",
            "   Doors  Weight  \n",
            "0  three    1165  \n",
            "1      3    1165  \n",
            "2      3    1165  \n",
            "3      3    1165  \n",
            "4      3    1170  \n",
            "5      3    1170  \n",
            "6      3    1245  \n"
          ]
        }
      ]
    }
  ]
}